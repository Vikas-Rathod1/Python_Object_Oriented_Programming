{
 "cells": [
  {
   "cell_type": "markdown",
   "metadata": {},
   "source": [
    "https://pynative.com/python-encapsulation/#:~:text=Encapsulation%20in%20Python%20describes%20the,methods%20into%20a%20single%20unit.\n",
    "\n",
    ">https://pynative.com/python-encapsulation/#:~:text=Encapsulation%20in%20Python%20describes%20the,methods%20into%20a%20single%20unit"
   ]
  },
  {
   "cell_type": "markdown",
   "metadata": {},
   "source": [
    "# Simple class methods"
   ]
  },
  {
   "cell_type": "code",
   "execution_count": 1,
   "metadata": {},
   "outputs": [
    {
     "name": "stdout",
     "output_type": "stream",
     "text": [
      "Name:  Ritesh Salary: 80000\n",
      "Ritesh is working on Machine learning project\n"
     ]
    }
   ],
   "source": [
    "class Employee:\n",
    "    # constructor\n",
    "    def __init__(self, name, salary, project):\n",
    "        # data members\n",
    "        self.name = name\n",
    "        self.salary = salary\n",
    "        self.project = project\n",
    "\n",
    "    # method\n",
    "    # to display employee's details\n",
    "    def show_details(self):\n",
    "        # accessing public data member\n",
    "        print(\"Name: \", self.name, 'Salary:', self.salary)\n",
    "\n",
    "    # method\n",
    "    def work(self):\n",
    "        print(self.name, 'is working on', self.project)\n",
    "\n",
    "# creating object of a class\n",
    "emp = Employee('Ritesh', 80000, 'Machine learning project')\n",
    "\n",
    "# calling public method of the class\n",
    "emp.show_details()\n",
    "emp.work()"
   ]
  },
  {
   "cell_type": "markdown",
   "metadata": {},
   "source": [
    "# Encapsulation in python"
   ]
  },
  {
   "cell_type": "markdown",
   "metadata": {},
   "source": [
    "Public Member: Accessible any where from outside class. (.)\n",
    "\n",
    "Private Member: Accessible within the class(__)\n",
    "\n",
    "Protected Member: Accessible within the class and its sub-classes(_)"
   ]
  },
  {
   "cell_type": "markdown",
   "metadata": {},
   "source": [
    "# Public Member"
   ]
  },
  {
   "cell_type": "code",
   "execution_count": null,
   "metadata": {},
   "outputs": [],
   "source": [
    "class Employee:\n",
    "    # constructor\n",
    "    def __init__(self, name, salary, project):\n",
    "        # data members\n",
    "        self.name = name\n",
    "        self.salary = salary\n",
    "        self.project = project"
   ]
  },
  {
   "cell_type": "markdown",
   "metadata": {},
   "source": [
    "# Private Member"
   ]
  },
  {
   "cell_type": "code",
   "execution_count": null,
   "metadata": {},
   "outputs": [],
   "source": [
    "class Employee:\n",
    "    # constructor\n",
    "    def __init__(self, name, salary, project):\n",
    "        # data members\n",
    "        self.__name = name\n",
    "        self.__salary = salary\n",
    "        self.__project = project"
   ]
  },
  {
   "cell_type": "markdown",
   "metadata": {},
   "source": [
    "# Protected Member"
   ]
  },
  {
   "cell_type": "code",
   "execution_count": null,
   "metadata": {},
   "outputs": [],
   "source": [
    "class Employee:\n",
    "    # constructor\n",
    "    def __init__(self, name, salary, project):\n",
    "        # data members\n",
    "        self._name = name\n",
    "        self._salary = salary\n",
    "        self._project = project"
   ]
  },
  {
   "cell_type": "code",
   "execution_count": null,
   "metadata": {},
   "outputs": [],
   "source": []
  },
  {
   "cell_type": "markdown",
   "metadata": {},
   "source": [
    "# 1. Public Member"
   ]
  },
  {
   "cell_type": "code",
   "execution_count": 3,
   "metadata": {},
   "outputs": [
    {
     "name": "stdout",
     "output_type": "stream",
     "text": [
      "Name:  Jessa Salary: 10000\n",
      "Name:  Jessa Salary: 10000\n"
     ]
    }
   ],
   "source": [
    "class Employee:\n",
    "    # constructor\n",
    "    def __init__(self, name, salary):\n",
    "        # public data members\n",
    "        self.name = name\n",
    "        self.salary = salary\n",
    "\n",
    "    # public instance methods\n",
    "    def show(self):\n",
    "        # accessing public data member\n",
    "        print(\"Name: \", self.name, 'Salary:', self.salary)\n",
    "\n",
    "# creating object of a class\n",
    "emp = Employee('Jessa', 10000)\n",
    "\n",
    "# accessing public data members\n",
    "print(\"Name: \", emp.name, 'Salary:', emp.salary)\n",
    "\n",
    "# calling public method of the class\n",
    "emp.show()"
   ]
  },
  {
   "cell_type": "code",
   "execution_count": 4,
   "metadata": {},
   "outputs": [
    {
     "name": "stdout",
     "output_type": "stream",
     "text": [
      "Name:  Jessa Salary: 10000\n"
     ]
    }
   ],
   "source": [
    "class Employee:\n",
    "    # constructor\n",
    "    def __init__(self, name, salary):\n",
    "        # public data members\n",
    "        self.name = name\n",
    "        self.salary = salary\n",
    "\n",
    "    # public instance methods\n",
    "    def show(self):\n",
    "        # accessing public data member\n",
    "        print(\"Name: \", self.name, 'Salary:', self.salary)\n",
    "\n",
    "# creating object of a class\n",
    "emp = Employee('Jessa', 10000)\n",
    "\n",
    "# accessing public data members outside the class\n",
    "print(\"Name: \", emp.name, 'Salary:', emp.salary)"
   ]
  },
  {
   "cell_type": "markdown",
   "metadata": {},
   "source": [
    "# Private Member\n",
    "\n",
    "Private members are accessible only within the class, and we can’t access them directly from the class objects."
   ]
  },
  {
   "cell_type": "markdown",
   "metadata": {},
   "source": [
    "# accessible only within the class"
   ]
  },
  {
   "cell_type": "code",
   "execution_count": 10,
   "metadata": {},
   "outputs": [
    {
     "name": "stdout",
     "output_type": "stream",
     "text": [
      "Name:  Jessa Salary: 10000\n"
     ]
    }
   ],
   "source": [
    "class Employee:\n",
    "    # constructor\n",
    "    def __init__(self, name, salary):\n",
    "        # public data member\n",
    "        self.name = name\n",
    "        #self.salary = salary # public data member\n",
    "        # private member\n",
    "        self.__salary = salary\n",
    "\n",
    "    # public instance methods\n",
    "    def show(self):\n",
    "        # private members are accessible from a class\n",
    "        print(\"Name: \", self.name, 'Salary:', self.__salary)\n",
    "\n",
    "# creating object of a class\n",
    "emp = Employee('Jessa', 10000)\n",
    "\n",
    "# calling public method of the class\n",
    "emp.show()\n",
    "#print(emp.__salary) #error ocured bcz  we cant access outside the class"
   ]
  },
  {
   "cell_type": "markdown",
   "metadata": {},
   "source": [
    "# we can’t access them directly"
   ]
  },
  {
   "cell_type": "code",
   "execution_count": 22,
   "metadata": {},
   "outputs": [
    {
     "ename": "AttributeError",
     "evalue": "'Employee' object has no attribute '__salary'",
     "output_type": "error",
     "traceback": [
      "\u001b[0;31m---------------------------------------------------------------------------\u001b[0m",
      "\u001b[0;31mAttributeError\u001b[0m                            Traceback (most recent call last)",
      "Input \u001b[0;32mIn [22]\u001b[0m, in \u001b[0;36m<cell line: 13>\u001b[0;34m()\u001b[0m\n\u001b[1;32m     10\u001b[0m emp \u001b[38;5;241m=\u001b[39m Employee(\u001b[38;5;124m'\u001b[39m\u001b[38;5;124mJessa\u001b[39m\u001b[38;5;124m'\u001b[39m, \u001b[38;5;241m10000\u001b[39m)\n\u001b[1;32m     12\u001b[0m \u001b[38;5;66;03m# accessing private data members\u001b[39;00m\n\u001b[0;32m---> 13\u001b[0m \u001b[38;5;28mprint\u001b[39m(\u001b[38;5;124m'\u001b[39m\u001b[38;5;124mSalary:\u001b[39m\u001b[38;5;124m'\u001b[39m, \u001b[43memp\u001b[49m\u001b[38;5;241;43m.\u001b[39;49m\u001b[43m__salary\u001b[49m)\n",
      "\u001b[0;31mAttributeError\u001b[0m: 'Employee' object has no attribute '__salary'"
     ]
    }
   ],
   "source": [
    "class Employee:\n",
    "    # constructor\n",
    "    def __init__(self, name, salary):\n",
    "        # public data member\n",
    "        self.name = name\n",
    "        # private member\n",
    "        self.__salary = salary\n",
    "\n",
    "# creating object of a class\n",
    "emp = Employee('Jessa', 10000)\n",
    "\n",
    "# accessing private data members\n",
    "print('Salary:', emp.__salary)"
   ]
  },
  {
   "cell_type": "markdown",
   "metadata": {},
   "source": [
    "# access out sdie the class"
   ]
  },
  {
   "cell_type": "code",
   "execution_count": 11,
   "metadata": {},
   "outputs": [
    {
     "name": "stdout",
     "output_type": "stream",
     "text": [
      "Name: Jessa\n",
      "Salary: 10000\n"
     ]
    }
   ],
   "source": [
    "class Employee:\n",
    "    # constructor\n",
    "    def __init__(self, name, salary):\n",
    "        # public data member\n",
    "        self.name = name\n",
    "        # private member\n",
    "        self.__salary = salary\n",
    "\n",
    "# creating object of a class\n",
    "emp = Employee('Jessa', 10000)\n",
    "\n",
    "print('Name:', emp.name)\n",
    "# direct access to private member using name mangling\n",
    "print('Salary:', emp._Employee__salary)"
   ]
  },
  {
   "cell_type": "markdown",
   "metadata": {},
   "source": [
    "# Protected Member\n",
    "Protected members are accessible within the class and also accessible to its sub-classes"
   ]
  },
  {
   "cell_type": "code",
   "execution_count": 14,
   "metadata": {},
   "outputs": [
    {
     "name": "stdout",
     "output_type": "stream",
     "text": [
      "Name is     Darshan\n",
      "Last name is     xyz\n",
      "education is   BE\n",
      "we r accesing protected data member outside the class: BE\n"
     ]
    }
   ],
   "source": [
    "class my_class:\n",
    "    \n",
    "    def __init__(self,name,lname,edu):\n",
    "        self.name = name # public\n",
    "        self.lname = lname # public\n",
    "        self._edu = edu # protected\n",
    "        \n",
    "    def info(self):\n",
    "        print(\"Name is    \",self.name)\n",
    "        print(\"Last name is    \",self.lname)\n",
    "        print(\"education is  \",self._edu)\n",
    "\n",
    "\n",
    "m = my_class(\"Darshan\",\"xyz\",\"BE\")\n",
    "m.info()\n",
    "print(\"we r accesing protected data member outside the class:\",m._edu)"
   ]
  },
  {
   "cell_type": "markdown",
   "metadata": {},
   "source": [
    "# aalso outside the class"
   ]
  },
  {
   "cell_type": "code",
   "execution_count": 15,
   "metadata": {},
   "outputs": [
    {
     "name": "stdout",
     "output_type": "stream",
     "text": [
      "Name is     Darshan\n",
      "Last name is     xyz\n",
      "education is   BE\n",
      "BE\n"
     ]
    }
   ],
   "source": [
    "class my_class:\n",
    "    def __init__(self,name,lname,edu):\n",
    "        self.name = name # public\n",
    "        self.lname = lname # public\n",
    "        self._edu = edu # protected\n",
    "    def info(self):\n",
    "        print(\"Name is    \",self.name)\n",
    "        print(\"Last name is    \",self.lname)\n",
    "        print(\"education is  \",self._edu)\n",
    "\n",
    "\n",
    "m = my_class(\"Darshan\",\"xyz\",\"BE\")\n",
    "m.info()\n",
    "print(m._edu)"
   ]
  },
  {
   "cell_type": "markdown",
   "metadata": {},
   "source": [
    "# Also in its sub class"
   ]
  },
  {
   "cell_type": "code",
   "execution_count": 41,
   "metadata": {},
   "outputs": [
    {
     "name": "stdout",
     "output_type": "stream",
     "text": [
      "name of the student:  vikas\n"
     ]
    }
   ],
   "source": [
    "class student:\n",
    "    def __init__(self):\n",
    "        self._name = \"vikas\" # protected\n",
    "class student1(student):\n",
    "    def __init__(self,age,education):\n",
    "        #self.name1 = name1\n",
    "        self.age = age # public \n",
    "        self.education = education # public\n",
    "        student.__init__(self) #\n",
    "        #self._name1  = name1\n",
    "    def details(self):\n",
    "        print(\"name of the student: \",self._name)\n",
    "\n",
    "std = student1(23,\"BE\")\n",
    "std.details()"
   ]
  },
  {
   "cell_type": "code",
   "execution_count": 32,
   "metadata": {},
   "outputs": [
    {
     "name": "stdout",
     "output_type": "stream",
     "text": [
      "Employee name : Jessa\n",
      "Working on project : NLP\n",
      "Project: NLP\n"
     ]
    }
   ],
   "source": [
    "# base class\n",
    "class Company:\n",
    "    def __init__(self):\n",
    "        # Protected member\n",
    "        self._project = \"NLP\"\n",
    "\n",
    "# child class\n",
    "class Employee(Company):\n",
    "    def __init__(self, name):\n",
    "        self.name = name\n",
    "        Company.__init__(self)\n",
    "\n",
    "    def show(self):\n",
    "        print(\"Employee name :\", self.name)\n",
    "        # Accessing protected member in child class\n",
    "        print(\"Working on project :\", self._project)\n",
    "\n",
    "c = Employee(\"Jessa\")\n",
    "c.show()\n",
    "\n",
    "# Direct access protected data member\n",
    "print('Project:', c._project)"
   ]
  },
  {
   "cell_type": "code",
   "execution_count": null,
   "metadata": {},
   "outputs": [],
   "source": []
  },
  {
   "cell_type": "code",
   "execution_count": 42,
   "metadata": {},
   "outputs": [
    {
     "name": "stdout",
     "output_type": "stream",
     "text": [
      "Jason\n",
      "35\n",
      "Developer\n"
     ]
    }
   ],
   "source": [
    "# illustrating protected members & protected access modifier \n",
    "class details:\n",
    "    _name=\"Jason\"\n",
    "    _age=35\n",
    "    _job=\"Developer\"\n",
    "class pro_mod(details):\n",
    "    def __init__(self):\n",
    "        print(self._name)\n",
    "        print(self._age)\n",
    "        print(self._job)\n",
    "\n",
    "# creating object of the class \n",
    "obj = pro_mod()\n",
    "# direct access of protected member\n",
    "# print(\"Name:\",obj.name)\n",
    "# print(\"Age:\",obj.age)"
   ]
  },
  {
   "cell_type": "code",
   "execution_count": null,
   "metadata": {},
   "outputs": [],
   "source": []
  },
  {
   "cell_type": "code",
   "execution_count": 43,
   "metadata": {},
   "outputs": [
    {
     "name": "stdout",
     "output_type": "stream",
     "text": [
      "Calling protected member of base class:  2\n",
      "Calling modified protected member outside class:  3\n",
      "Accessing protected member of obj1:  3\n",
      "Accessing protected member of obj2:  2\n"
     ]
    }
   ],
   "source": [
    "# Python program to\n",
    "# demonstrate protected members\n",
    "\n",
    "# Creating a base class\n",
    "class Base:\n",
    "\tdef __init__(self):\n",
    "\n",
    "\t\t# Protected member\n",
    "\t\tself._a = 2\n",
    "\n",
    "# Creating a derived class\n",
    "class Derived(Base):\n",
    "\tdef __init__(self):\n",
    "\n",
    "\t\t# Calling constructor of\n",
    "\t\t# Base class\n",
    "\t\tBase.__init__(self)\n",
    "\t\tprint(\"Calling protected member of base class: \",\n",
    "\t\t\tself._a)\n",
    "\n",
    "\t\t# Modify the protected variable:\n",
    "\t\tself._a = 3\n",
    "\t\tprint(\"Calling modified protected member outside class: \",\n",
    "\t\t\tself._a)\n",
    "\n",
    "\n",
    "obj1 = Derived()\n",
    "\n",
    "obj2 = Base()\n",
    "\n",
    "# Calling protected member\n",
    "# Can be accessed but should not be done due to convention\n",
    "print(\"Accessing protected member of obj1: \", obj1._a)\n",
    "\n",
    "# Accessing the protected variable outside\n",
    "print(\"Accessing protected member of obj2: \", obj2._a)\n"
   ]
  },
  {
   "cell_type": "code",
   "execution_count": null,
   "metadata": {},
   "outputs": [],
   "source": []
  },
  {
   "cell_type": "code",
   "execution_count": 46,
   "metadata": {},
   "outputs": [],
   "source": [
    "class home1: \n",
    "    def __init__(self):\n",
    "        self._name = \"vikas\"\n",
    "    \n",
    "    def kitchen(self):\n",
    "        print(\"u r in kitchen\")\n",
    "    \n",
    "    def hall(self):\n",
    "        print(\"u r in hall\")\n",
    "    \n",
    "    def ground(self):\n",
    "        print(\"u r in ground\")\n",
    "    \n",
    "    def bedroom(self):\n",
    "        print(\"u r in bedroom\")     \n",
    "        \n",
    "class home2(home1):\n",
    "    def terress(self):\n",
    "        print(\"u r on terress\")\n",
    "    \n",
    "    def library(self):\n",
    "        print(\"u r ini library\")\n",
    "        \n",
    "    def temple(self):\n",
    "        print(\"u can have prashad after chanting the strot\",self._name)\n",
    "        \n",
    "        \n",
    "mk1 = home1()\n",
    "mk2 = home2()\n"
   ]
  },
  {
   "cell_type": "code",
   "execution_count": 47,
   "metadata": {},
   "outputs": [
    {
     "name": "stdout",
     "output_type": "stream",
     "text": [
      "u can have prashad after chanting the strot vikas\n"
     ]
    }
   ],
   "source": [
    "mk2.temple()"
   ]
  },
  {
   "cell_type": "code",
   "execution_count": null,
   "metadata": {},
   "outputs": [],
   "source": []
  }
 ],
 "metadata": {
  "kernelspec": {
   "display_name": "Python 3",
   "language": "python",
   "name": "python3"
  },
  "language_info": {
   "codemirror_mode": {
    "name": "ipython",
    "version": 3
   },
   "file_extension": ".py",
   "mimetype": "text/x-python",
   "name": "python",
   "nbconvert_exporter": "python",
   "pygments_lexer": "ipython3",
   "version": "3.7.0"
  }
 },
 "nbformat": 4,
 "nbformat_minor": 5
}

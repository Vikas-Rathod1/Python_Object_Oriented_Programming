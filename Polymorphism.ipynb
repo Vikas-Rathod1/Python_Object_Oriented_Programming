{
 "cells": [
  {
   "cell_type": "markdown",
   "metadata": {},
   "source": [
    "# Poly morphism"
   ]
  },
  {
   "cell_type": "code",
   "execution_count": 1,
   "metadata": {},
   "outputs": [],
   "source": [
    "lst  = [1,22,32,41,44,212,33211,23,38,122]\n",
    "tpl = (4,13,4523,1,4,23,12,41,3,12,34)\n",
    "str = \"Acharya_School\"\n",
    "dict = {\"key\":12,\"key2\":464,\"key3\":43}"
   ]
  },
  {
   "cell_type": "code",
   "execution_count": 2,
   "metadata": {},
   "outputs": [
    {
     "data": {
      "text/plain": [
       "10"
      ]
     },
     "execution_count": 2,
     "metadata": {},
     "output_type": "execute_result"
    }
   ],
   "source": [
    "len(lst)"
   ]
  },
  {
   "cell_type": "code",
   "execution_count": 3,
   "metadata": {},
   "outputs": [
    {
     "data": {
      "text/plain": [
       "11"
      ]
     },
     "execution_count": 3,
     "metadata": {},
     "output_type": "execute_result"
    }
   ],
   "source": [
    "len(tpl)"
   ]
  },
  {
   "cell_type": "code",
   "execution_count": 8,
   "metadata": {},
   "outputs": [
    {
     "data": {
      "text/plain": [
       "14"
      ]
     },
     "execution_count": 8,
     "metadata": {},
     "output_type": "execute_result"
    }
   ],
   "source": [
    "len(str)"
   ]
  },
  {
   "cell_type": "code",
   "execution_count": 9,
   "metadata": {},
   "outputs": [],
   "source": [
    "dict = {\"key\":12,\"key2\":464,\"key3\":43}"
   ]
  },
  {
   "cell_type": "code",
   "execution_count": 10,
   "metadata": {},
   "outputs": [
    {
     "data": {
      "text/plain": [
       "3"
      ]
     },
     "execution_count": 10,
     "metadata": {},
     "output_type": "execute_result"
    }
   ],
   "source": [
    "len(dict)"
   ]
  },
  {
   "cell_type": "code",
   "execution_count": 3,
   "metadata": {},
   "outputs": [],
   "source": [
    "num1  = 12\n",
    "num2 = 10\n"
   ]
  },
  {
   "cell_type": "code",
   "execution_count": 4,
   "metadata": {},
   "outputs": [
    {
     "data": {
      "text/plain": [
       "22"
      ]
     },
     "execution_count": 4,
     "metadata": {},
     "output_type": "execute_result"
    }
   ],
   "source": [
    "num1+num2"
   ]
  },
  {
   "cell_type": "code",
   "execution_count": 1,
   "metadata": {},
   "outputs": [],
   "source": [
    "str1 = \"Jai\"\n",
    "str2 = \"Hind\""
   ]
  },
  {
   "cell_type": "code",
   "execution_count": 2,
   "metadata": {},
   "outputs": [
    {
     "data": {
      "text/plain": [
       "'JaiHind'"
      ]
     },
     "execution_count": 2,
     "metadata": {},
     "output_type": "execute_result"
    }
   ],
   "source": [
    "str1+str2 # cocatination of string"
   ]
  },
  {
   "cell_type": "code",
   "execution_count": null,
   "metadata": {},
   "outputs": [],
   "source": []
  },
  {
   "cell_type": "code",
   "execution_count": 4,
   "metadata": {},
   "outputs": [
    {
     "name": "stdout",
     "output_type": "stream",
     "text": [
      "15\n"
     ]
    }
   ],
   "source": [
    "def add(a, b, c = 10):\n",
    "    return a + b + c\n",
    " \n",
    "# Driver code\n",
    "print(add(2, 3))\n",
    "#print(add(2, 3, 4))"
   ]
  },
  {
   "cell_type": "code",
   "execution_count": 5,
   "metadata": {},
   "outputs": [
    {
     "data": {
      "text/plain": [
       "9"
      ]
     },
     "execution_count": 5,
     "metadata": {},
     "output_type": "execute_result"
    }
   ],
   "source": [
    "add(2,3,4)"
   ]
  },
  {
   "cell_type": "markdown",
   "metadata": {},
   "source": [
    "# Polymorphism with Function and Objects"
   ]
  },
  {
   "cell_type": "code",
   "execution_count": 27,
   "metadata": {},
   "outputs": [
    {
     "name": "stdout",
     "output_type": "stream",
     "text": [
      "Vegetable\n",
      "Fruit\n",
      "Greeen\n",
      "Red\n"
     ]
    }
   ],
   "source": [
    "class Tomato:\n",
    "    def type(self):\n",
    "        print(\"Vegetable\")\n",
    "    def color(self):\n",
    "        print(\"Greeen\")\n",
    "        \n",
    "class Apple:\n",
    "    def type(self):\n",
    "        print(\"Fruit\")\n",
    "    def color(self):\n",
    "        print(\"Red\")\n",
    "\n",
    "def Xyz(obj):\n",
    "    obj.type()\n",
    "    obj.color()\n",
    "    obj.plant()\n",
    "    \n",
    "obj_tomato = Tomato() \n",
    "obj_apple = Apple() \n",
    "\n",
    "\n",
    "Xyz(obj_tomato) \n",
    "Xyz(obj_apple)"
   ]
  },
  {
   "cell_type": "code",
   "execution_count": null,
   "metadata": {},
   "outputs": [],
   "source": [
    "class Tomato:\n",
    "    def type(self):\n",
    "        print(\"Vegetable\")\n",
    "    def color(self):\n",
    "        print(\"Greeen\") \n",
    "        \n",
    "    def plant(self):\n",
    "        print(\"Small plant\")\n",
    "        \n",
    "    def seed(self):\n",
    "        print(\"flat in nature\")\n",
    "class Apple:\n",
    "    def type(self):\n",
    "        print(\"Fruit\")\n",
    "    def color(self):\n",
    "        print(\"Red\")\n",
    "\n",
    "# def Xyz(obj):\n",
    "#     obj.type()\n",
    "#     obj.color()\n",
    "#     obj.plant()\n",
    "    \n",
    "obj_tomato = Tomato() \n",
    "obj_apple = Apple() \n",
    "\n",
    "obj_tomato.type()\n",
    "obj_tomato.color()\n",
    "\n",
    "obj_apple.type()\n",
    "obj_apple.color()\n",
    "# Xyz(obj_tomato) \n",
    "# Xyz(obj_apple)"
   ]
  },
  {
   "cell_type": "code",
   "execution_count": null,
   "metadata": {},
   "outputs": [],
   "source": []
  },
  {
   "cell_type": "markdown",
   "metadata": {},
   "source": [
    "# Polymorphism with Class Methods"
   ]
  },
  {
   "cell_type": "code",
   "execution_count": 13,
   "metadata": {},
   "outputs": [
    {
     "name": "stdout",
     "output_type": "stream",
     "text": [
      "Meow\n",
      "I am a cat. My name is Kitty. I am 2.5 years old.\n",
      "Meow\n",
      "Bark\n",
      "I am a dog. My name is Fluffy. I am 4 years old.\n",
      "Bark\n"
     ]
    }
   ],
   "source": [
    "class Cat:\n",
    "    \n",
    "    def __init__(self, name, age):\n",
    "        self.name = name\n",
    "        self.age = age\n",
    "\n",
    "    def info(self):\n",
    "        print(f\"I am a cat. My name is {self.name}. I am {self.age} years old.\")\n",
    "\n",
    "    def make_sound(self):\n",
    "        print(\"Meow\")\n",
    "\n",
    "\n",
    "class Dog:\n",
    "    def __init__(self, name, age):\n",
    "        self.name = name\n",
    "        self.age = age\n",
    "\n",
    "    def info(self):\n",
    "        print(f\"I am a dog. My name is {self.name}. I am {self.age} years old.\")\n",
    "\n",
    "    def make_sound(self):\n",
    "        print(\"Bark\")\n",
    "\n",
    "\n",
    "cat1 = Cat(\"Kitty\", 2.5)\n",
    "dog1 = Dog(\"Fluffy\", 4)\n",
    "\n",
    "for animal in (cat1, dog1):\n",
    "    animal.make_sound()\n",
    "    animal.info()\n",
    "    animal.make_sound()\n"
   ]
  },
  {
   "cell_type": "code",
   "execution_count": null,
   "metadata": {},
   "outputs": [],
   "source": []
  },
  {
   "cell_type": "code",
   "execution_count": null,
   "metadata": {},
   "outputs": [],
   "source": [
    "class India():\n",
    "    def capital(self):\n",
    "        print(\"New Delhi is the capital of India.\")\n",
    " \n",
    "    def language(self):\n",
    "        print(\"Hindi is the most widely spoken language of India.\")\n",
    " \n",
    "    def type(self):\n",
    "        print(\"India is a developing country.\")\n",
    "\n",
    "class USA():\n",
    "    def capital(self):\n",
    "        print(\"Washington, D.C. is the capital of USA.\")\n",
    " \n",
    "    def language(self):\n",
    "        print(\"English is the primary language of USA.\")\n",
    " \n",
    "    def type(self):\n",
    "        print(\"USA is a developed country.\")\n",
    "\n",
    "obj_ind = India()\n",
    "obj_usa = USA()\n",
    "for country in (obj_ind, obj_usa):\n",
    "    country.capital()\n",
    "    country.language()\n",
    "    country.type()"
   ]
  },
  {
   "cell_type": "code",
   "execution_count": null,
   "metadata": {},
   "outputs": [],
   "source": []
  }
 ],
 "metadata": {
  "kernelspec": {
   "display_name": "Python 3",
   "language": "python",
   "name": "python3"
  },
  "language_info": {
   "codemirror_mode": {
    "name": "ipython",
    "version": 3
   },
   "file_extension": ".py",
   "mimetype": "text/x-python",
   "name": "python",
   "nbconvert_exporter": "python",
   "pygments_lexer": "ipython3",
   "version": "3.7.0"
  }
 },
 "nbformat": 4,
 "nbformat_minor": 5
}

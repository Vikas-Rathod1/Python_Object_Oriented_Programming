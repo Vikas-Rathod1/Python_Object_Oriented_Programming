{
 "cells": [
  {
   "cell_type": "markdown",
   "id": "e54e3f49",
   "metadata": {
    "id": "e54e3f49"
   },
   "source": [
    "# Python Class\n"
   ]
  },
  {
   "cell_type": "code",
   "execution_count": null,
   "id": "f26c01a7",
   "metadata": {
    "id": "f26c01a7",
    "outputId": "8afa2a9b-2de9-4ca4-9474-90898d15c59b"
   },
   "outputs": [
    {
     "name": "stdout",
     "output_type": "stream",
     "text": [
      "<__main__.myclass object at 0x00000267C93E2850>\n"
     ]
    }
   ],
   "source": [
    "class myclass:\n",
    "    pass\n",
    "my = myclass() # object of class\n",
    "print(my)"
   ]
  },
  {
   "cell_type": "markdown",
   "id": "09994886",
   "metadata": {},
   "source": [
    "# Syntax"
   ]
  },
  {
   "cell_type": "code",
   "execution_count": null,
   "id": "6dc3668b",
   "metadata": {},
   "outputs": [],
   "source": [
    "def cyx():\n",
    "    \n",
    "    pass\n",
    "\n",
    "cyx()"
   ]
  },
  {
   "cell_type": "code",
   "execution_count": 6,
   "id": "1f3b5995",
   "metadata": {},
   "outputs": [],
   "source": [
    "class class_name:\n",
    "    #print(\"  \")\n",
    "    pass\n",
    "\n",
    "obj_123 = class_name() # object of class"
   ]
  },
  {
   "cell_type": "code",
   "execution_count": 13,
   "id": "854bf423",
   "metadata": {},
   "outputs": [],
   "source": [
    "class num:\n",
    "    x1 = 100"
   ]
  },
  {
   "cell_type": "code",
   "execution_count": 15,
   "id": "13c5ef4f",
   "metadata": {},
   "outputs": [
    {
     "name": "stdout",
     "output_type": "stream",
     "text": [
      "100\n"
     ]
    }
   ],
   "source": [
    "class num:\n",
    "    x1 = 100\n",
    "n = num()# object creation\n",
    "print(n.x1)"
   ]
  },
  {
   "cell_type": "code",
   "execution_count": null,
   "id": "8ed391ac",
   "metadata": {},
   "outputs": [],
   "source": []
  },
  {
   "cell_type": "code",
   "execution_count": null,
   "id": "d039b697",
   "metadata": {},
   "outputs": [],
   "source": []
  },
  {
   "cell_type": "code",
   "execution_count": null,
   "id": "8e6ce6de",
   "metadata": {},
   "outputs": [],
   "source": []
  },
  {
   "cell_type": "code",
   "execution_count": null,
   "id": "e63e123e",
   "metadata": {
    "id": "e63e123e",
    "outputId": "989a8f14-2bae-4929-8e7d-64cf86b0964f"
   },
   "outputs": [
    {
     "name": "stdout",
     "output_type": "stream",
     "text": [
      "10\n"
     ]
    }
   ],
   "source": [
    "class firstclass:\n",
    "    x = 10\n",
    "f = firstclass()\n",
    "print(f.x)"
   ]
  },
  {
   "cell_type": "code",
   "execution_count": 11,
   "id": "cdf2a251",
   "metadata": {},
   "outputs": [
    {
     "name": "stdout",
     "output_type": "stream",
     "text": [
      "<__main__.my_new_class object at 0x7f97c5753c40>\n",
      "22\n"
     ]
    }
   ],
   "source": [
    "class my_new_class:\n",
    "    #print(\"this is my first class programm\")\n",
    "    num1 = 12\n",
    "    nun2 = 10\n",
    "    result  = num1+nun2\n",
    "    \n",
    "    \n",
    "    \n",
    "    \n",
    "obj = my_new_class()\n",
    "print(obj)\n",
    "print(obj.result)"
   ]
  },
  {
   "cell_type": "code",
   "execution_count": null,
   "id": "94134962",
   "metadata": {},
   "outputs": [],
   "source": []
  },
  {
   "cell_type": "code",
   "execution_count": null,
   "id": "5afc7c7d",
   "metadata": {
    "id": "5afc7c7d",
    "outputId": "59347e13-4e10-403a-9d5d-7ad0be02c881"
   },
   "outputs": [
    {
     "name": "stdout",
     "output_type": "stream",
     "text": [
      "16GB-RAM 1TB HD Acer\n"
     ]
    }
   ],
   "source": [
    "class Computer:\n",
    "    def config(self):\n",
    "        print(\"16GB-RAM\",\"1TB HD\",\"Acer\")\n",
    "comp = Computer()\n",
    "\n",
    "comp.config()"
   ]
  },
  {
   "cell_type": "code",
   "execution_count": null,
   "id": "8a24e097",
   "metadata": {
    "id": "8a24e097"
   },
   "outputs": [],
   "source": [
    "# class Employee:\n",
    "#     def __init__(self,name,age):\n",
    "#         self.name = name\n",
    "        "
   ]
  },
  {
   "cell_type": "code",
   "execution_count": null,
   "id": "f3b34b96",
   "metadata": {
    "id": "f3b34b96",
    "outputId": "51e420e6-777b-486f-92f9-e4e31ea2e816"
   },
   "outputs": [
    {
     "name": "stdout",
     "output_type": "stream",
     "text": [
      "enter your name:vikas\n",
      "enter your age:23\n",
      "you are above 20\n",
      "vikas 23\n"
     ]
    }
   ],
   "source": [
    "class person:\n",
    "    def __init__(self,name,age):\n",
    "        self.name = name\n",
    "        self.age = age\n",
    "    def detail(self):\n",
    "        \n",
    "        if self.age>20:\n",
    "            print(\"you are above 20\")\n",
    "        print(self.name,self.age)\n",
    "name = input(\"enter your name:\")\n",
    "age = int(input(\"enter your age:\"))\n",
    "prsn = person(name,age)\n",
    "prsn.detail()\n"
   ]
  },
  {
   "cell_type": "markdown",
   "id": "b61f5421",
   "metadata": {
    "id": "b61f5421"
   },
   "source": [
    "# Student is pass of fail"
   ]
  },
  {
   "cell_type": "code",
   "execution_count": null,
   "id": "ba81d795",
   "metadata": {
    "id": "ba81d795",
    "outputId": "fed3447c-d498-45fc-90fd-ddcefc5ccfa4"
   },
   "outputs": [
    {
     "name": "stdout",
     "output_type": "stream",
     "text": [
      "you are fail\n"
     ]
    }
   ],
   "source": [
    "class Student:\n",
    "    def check_pass_or_fail(self):\n",
    "        if (self.mark>210):\n",
    "            print(\" you are pass\")\n",
    "        else:\n",
    "            print(\"you are fail\")\n",
    "std = Student()\n",
    "std.name = \"Vikas\"\n",
    "std.mark = 40\n",
    "\n",
    "std.check_pass_or_fail()"
   ]
  },
  {
   "cell_type": "code",
   "execution_count": null,
   "id": "2aa8565f",
   "metadata": {
    "id": "2aa8565f",
    "outputId": "91829e44-1093-4551-b623-11c95f76dd73"
   },
   "outputs": [
    {
     "name": "stdout",
     "output_type": "stream",
     "text": [
      "vikas\n",
      "30\n"
     ]
    }
   ],
   "source": [
    "class student:\n",
    "    def check_pass_or_fail(self):\n",
    "        if self.mark<40:\n",
    "            print(\"You are pass\")\n",
    "        else:\n",
    "            print(\"you are not pass\")\n",
    "    def __init__(self,name,mark):# constructor\n",
    "        self.name = name\n",
    "        self.mark = mark\n",
    "\n",
    "std = student(\"vikas\",30)\n",
    "print(std.name)\n",
    "print(std.mark)\n",
    "\n",
    "        "
   ]
  },
  {
   "cell_type": "code",
   "execution_count": null,
   "id": "ca54331c",
   "metadata": {
    "id": "ca54331c",
    "outputId": "09b76da5-0da5-4ef6-b7b3-c0e9d819cf7b"
   },
   "outputs": [
    {
     "name": "stdout",
     "output_type": "stream",
     "text": [
      "enter a number223\n",
      "this number is odd\n"
     ]
    }
   ],
   "source": [
    "class calculation:\n",
    "    def even_odd(self):\n",
    "        if self.num%2==0:\n",
    "            print(\"The given number is even\")\n",
    "        else:\n",
    "            print(\"this number is odd\")\n",
    "calc = calculation()\n",
    "calc.num = int(input(\"enter a number2\"))\n",
    "calc.even_odd()\n"
   ]
  },
  {
   "cell_type": "code",
   "execution_count": null,
   "id": "0041f162",
   "metadata": {
    "id": "0041f162"
   },
   "outputs": [],
   "source": [
    "class Phone:\n",
    "\n",
    "    def set_color(self,color):\n",
    "\n",
    "        self.color=color\n",
    "\n",
    "    def set_cost(self,cost):\n",
    "\n",
    "        self.cost=cost\n",
    "\n",
    "    def show_color(self):\n",
    "\n",
    "        return self.color\n",
    "\n",
    "    def show_cost(self):\n",
    "\n",
    "        return self.cost\n",
    "\n",
    "    def make_call(self):\n",
    "\n",
    "        print(\"Making phone call\")\n",
    "\n",
    "    def play_game(self):\n",
    "\n",
    "        print(\"Playing Game\")\n",
    "p2 = Phone()"
   ]
  },
  {
   "cell_type": "code",
   "execution_count": null,
   "id": "e057c192",
   "metadata": {
    "id": "e057c192",
    "outputId": "d35c8266-d5c2-42f6-c7bf-b6a8ed7d7a5a"
   },
   "outputs": [
    {
     "name": "stdout",
     "output_type": "stream",
     "text": [
      "Playing Game\n"
     ]
    }
   ],
   "source": [
    "p2.play_game()"
   ]
  },
  {
   "cell_type": "markdown",
   "id": "ce31ddd3",
   "metadata": {
    "id": "ce31ddd3"
   },
   "source": [
    "# Inheritance"
   ]
  },
  {
   "cell_type": "code",
   "execution_count": null,
   "id": "87689af6",
   "metadata": {
    "id": "87689af6"
   },
   "outputs": [],
   "source": []
  },
  {
   "cell_type": "code",
   "execution_count": null,
   "id": "44fe59cc",
   "metadata": {
    "id": "44fe59cc",
    "outputId": "4650da51-a420-4985-eedd-b25b8b2fd463"
   },
   "outputs": [
    {
     "name": "stdout",
     "output_type": "stream",
     "text": [
      "Inside Vehicle class\n",
      "Inside Car class\n"
     ]
    }
   ],
   "source": [
    "# Base class\n",
    "class Vehicle:\n",
    "    def Vehicle_info(self):\n",
    "        print('Inside Vehicle class')\n",
    "\n",
    "# Child class\n",
    "class Car(Vehicle):\n",
    "    def car_info(self):\n",
    "        print('Inside Car class')\n",
    "\n",
    "# Create object of Car\n",
    "car = Car()\n",
    "\n",
    "# access Vehicle's info using car object\n",
    "car.Vehicle_info()\n",
    "car.car_info()"
   ]
  },
  {
   "cell_type": "markdown",
   "id": "cdcd346d",
   "metadata": {
    "id": "cdcd346d"
   },
   "source": [
    "# Multiple Inheritance\n",
    "In multiple inheritance, one child class can inherit from multiple parent classes. So here is one child class and multiple parent classes."
   ]
  },
  {
   "cell_type": "code",
   "execution_count": null,
   "id": "5d45ce28",
   "metadata": {
    "id": "5d45ce28",
    "outputId": "037b0914-e9d6-4e40-9973-105f172a6113"
   },
   "outputs": [
    {
     "name": "stdout",
     "output_type": "stream",
     "text": [
      "Inside Person class\n",
      "Name: Jessa Age: 28\n",
      "Inside Company class\n",
      "Name: Google location: Atlanta\n",
      "Inside Employee class\n",
      "Salary: 12000 Skill: Machine Learning\n"
     ]
    }
   ],
   "source": [
    "# Parent class 1\n",
    "class Person:\n",
    "    def person_info(self, name, age):\n",
    "        print('Inside Person class')\n",
    "        print('Name:', name, 'Age:', age)\n",
    "\n",
    "# Parent class 2\n",
    "class Company:\n",
    "    def company_info(self, company_name, location):\n",
    "        print('Inside Company class')\n",
    "        print('Name:', company_name, 'location:', location)\n",
    "\n",
    "# Child class\n",
    "class Employee(Person, Company):\n",
    "    def Employee_info(self, salary, skill):\n",
    "        print('Inside Employee class')\n",
    "        print('Salary:', salary, 'Skill:', skill)\n",
    "\n",
    "# Create object of Employee\n",
    "emp = Employee()\n",
    "\n",
    "# access data\n",
    "emp.person_info('Jessa', 28)\n",
    "emp.company_info('Google', 'Atlanta')\n",
    "emp.Employee_info(12000, 'Machine Learning')\n"
   ]
  },
  {
   "cell_type": "markdown",
   "id": "19ca9bb9",
   "metadata": {
    "id": "19ca9bb9"
   },
   "source": [
    "# Multilevel inheritance\n",
    "In multilevel inheritance, a class inherits from a child class or derived class. Suppose three classes A, B, C. A is the superclass, B is the child class of A, C is the child class of B. In other words, we can say a chain of classes is called multilevel inheritance."
   ]
  },
  {
   "cell_type": "code",
   "execution_count": null,
   "id": "d9e2f654",
   "metadata": {
    "id": "d9e2f654",
    "outputId": "6fb75274-0731-4ea4-c5aa-1ca56d3c415c"
   },
   "outputs": [
    {
     "name": "stdout",
     "output_type": "stream",
     "text": [
      "Inside Vehicle class\n",
      "Inside Car class\n",
      "Inside SportsCar class\n"
     ]
    }
   ],
   "source": [
    "# Base class\n",
    "class Vehicle:\n",
    "    def Vehicle_info(self):\n",
    "        print('Inside Vehicle class')\n",
    "\n",
    "# Child class\n",
    "class Car(Vehicle):\n",
    "    def car_info(self):\n",
    "        print('Inside Car class')\n",
    "\n",
    "# Child class\n",
    "class SportsCar(Car):\n",
    "    def sports_car_info(self):\n",
    "        print('Inside SportsCar class')\n",
    "\n",
    "# Create object of SportsCar\n",
    "s_car = SportsCar()\n",
    "\n",
    "# access Vehicle's and Car info using SportsCar object\n",
    "s_car.Vehicle_info()\n",
    "s_car.car_info()\n",
    "s_car.sports_car_info()"
   ]
  },
  {
   "cell_type": "code",
   "execution_count": null,
   "id": "7a89ea09",
   "metadata": {
    "id": "7a89ea09"
   },
   "outputs": [],
   "source": [
    "class ComplexNumber:\n",
    "    def __init__(self, r=0, i=0):\n",
    "        self.real = r\n",
    "        self.imag = i\n",
    "\n",
    "    def get_data(self):\n",
    "        print(f'{self.real}+{self.imag}j')\n",
    "\n",
    "\n",
    "# Create a new ComplexNumber object\n",
    "num1 = ComplexNumber(2, 3)\n",
    "\n",
    "# Call get_data() method\n",
    "# Output: 2+3j\n",
    "num1.get_data()\n",
    "\n",
    "# Create another ComplexNumber object\n",
    "# and create a new attribute 'attr'\n",
    "num2 = ComplexNumber(5)\n",
    "num2.attr = 10\n",
    "\n",
    "# Output: (5, 0, 10)\n",
    "print((num2.real, num2.imag, num2.attr))\n",
    "\n",
    "# but c1 object doesn't have attribute 'attr'\n",
    "# AttributeError: 'ComplexNumber' object has no attribute 'attr'\n",
    "print(num1.attr)"
   ]
  }
 ],
 "metadata": {
  "colab": {
   "name": "Python_Class.ipynb",
   "provenance": []
  },
  "interpreter": {
   "hash": "e3fb83897f84abdfdfc87a4af8158529c6009dc6d1d01f1bfac5c1cefc91d493"
  },
  "kernelspec": {
   "display_name": "Python 3 (ipykernel)",
   "language": "python",
   "name": "python3"
  },
  "language_info": {
   "codemirror_mode": {
    "name": "ipython",
    "version": 3
   },
   "file_extension": ".py",
   "mimetype": "text/x-python",
   "name": "python",
   "nbconvert_exporter": "python",
   "pygments_lexer": "ipython3",
   "version": "3.9.12"
  }
 },
 "nbformat": 4,
 "nbformat_minor": 5
}
